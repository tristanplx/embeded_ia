{
  "cells": [
    {
      "cell_type": "markdown",
      "metadata": {
        "id": "ZLQS0KLMycmb"
      },
      "source": [
        "## **PRACTICAL SESSION 1** — Deep Learning for predictive maintenance"
      ]
    },
    {
      "cell_type": "markdown",
      "metadata": {
        "id": "3mjNAfgj4K1_"
      },
      "source": [
        "The dataset used is the **AI4I 2020** Predictive Maintenance Dataset, which contains 10,000 instances of industrial sensor data. Each instance represents the operating condition of a machine and is associated with a label indicating whether a failure has occurred and, if so, what type of failure it is.\n",
        "\n",
        "The 5 possible labels are:\n",
        "\n",
        "\n",
        "\n",
        "*   **TWF**: Tool Wear Failure\n",
        "*   **HDF**: Heat Dissipation Failure\n",
        "*   **PWF**: Power Failure\n",
        "*   **OSF**: Overstrain Failure\n",
        "*   **RNF**: Random Failure\n",
        "\n",
        "\n",
        "The data is available on eCAMPUS as CSV file called: \"ai4i2020.csv\"\n",
        "\n"
      ]
    },
    {
      "cell_type": "markdown",
      "metadata": {
        "id": "4_LBMVsgRI9W"
      },
      "source": [
        "## **PRACTICAL SESSION Goal** — Ceate a deep leanring model allowing to realize a predictive maintenance mission"
      ]
    },
    {
      "cell_type": "markdown",
      "metadata": {
        "id": "wt7L0p4MbIIw"
      },
      "source": [
        "## **1 - Analysis of the dataset**\n",
        "\n"
      ]
    },
    {
      "cell_type": "markdown",
      "metadata": {
        "id": "0JFIZ6mtRapt"
      },
      "source": [
        "All libraries used ***SHOULD BE PLACED*** in the code cell below"
      ]
    },
    {
      "cell_type": "code",
      "execution_count": 5,
      "metadata": {
        "id": "UQp7FGSb5Vlv"
      },
      "outputs": [],
      "source": [
        "\n",
        "from tensorflow.keras import layers,models\n",
        "import serial \n",
        "import numpy as np"
      ]
    },
    {
      "cell_type": "markdown",
      "metadata": {
        "id": "eFRcS74MDeSf"
      },
      "source": [
        "**QUESTION:** Load dataset and display some lines of the csv file."
      ]
    },
    {
      "cell_type": "code",
      "execution_count": null,
      "metadata": {
        "id": "9l044FZ_5-fN"
      },
      "outputs": [],
      "source": []
    },
    {
      "cell_type": "markdown",
      "metadata": {
        "id": "joQOXoqaD8JA"
      },
      "source": [
        "**QUESTION:** Display the distribution of machine failures and non-failures with a bar graph."
      ]
    },
    {
      "cell_type": "code",
      "execution_count": null,
      "metadata": {
        "id": "r3Q1l9JoMs7m"
      },
      "outputs": [],
      "source": []
    },
    {
      "cell_type": "markdown",
      "metadata": {
        "id": "vCNIqXVyEkrR"
      },
      "source": [
        "**ANALYSIS QUESTION:** What do you observe?"
      ]
    },
    {
      "cell_type": "markdown",
      "metadata": {
        "id": "6BMGtlIWE-C0"
      },
      "source": [
        "\"Write here your response\""
      ]
    },
    {
      "cell_type": "markdown",
      "metadata": {
        "id": "huU5I4x8SzlN"
      },
      "source": [
        "**ANALYSIS QUESTION:** What will be the consequence of this phenomenon on the model's learning?"
      ]
    },
    {
      "cell_type": "markdown",
      "metadata": {
        "id": "JHmYROP0TLIS"
      },
      "source": [
        "\"Write here your response\""
      ]
    },
    {
      "cell_type": "markdown",
      "metadata": {
        "id": "0s-mzCCsSasl"
      },
      "source": [
        "**QUESTION:** Create a bar chart showing the distribution of different failure types (TWF, HDF, PWF, OSF, RNF). Display the exact values above each bar in the chart.\""
      ]
    },
    {
      "cell_type": "code",
      "execution_count": null,
      "metadata": {
        "id": "nQyJCfamMdJN"
      },
      "outputs": [],
      "source": []
    },
    {
      "cell_type": "markdown",
      "metadata": {
        "id": "NXyHa73yU8g_"
      },
      "source": [
        "**ANALYSIS QUESTION:** What do you observe?"
      ]
    },
    {
      "cell_type": "markdown",
      "metadata": {
        "id": "WRDFE_dsVBBU"
      },
      "source": [
        "\"Write here your response\""
      ]
    },
    {
      "cell_type": "markdown",
      "metadata": {
        "id": "cvaO2bEIMxLd"
      },
      "source": [
        "**QUESTION:** Create a bar chart showing the distribution of failure types (TWF, HDF, PWF, OSF, RNF) among machines that experienced a failure (Machine failure == 1). Additionally, add a \"No Specific Failure\" category to count cases where a machine failed but no specific failure type was recorded. Display the exact values above each bar in the chart.\""
      ]
    },
    {
      "cell_type": "code",
      "execution_count": null,
      "metadata": {
        "id": "e97htGyyMsle"
      },
      "outputs": [],
      "source": []
    },
    {
      "cell_type": "markdown",
      "metadata": {
        "id": "U6_3vAQCOUGb"
      },
      "source": [
        "**ANALYSIS QUESTION:** What do you obsrve comapred to the previous question ? What can you conclude?"
      ]
    },
    {
      "cell_type": "markdown",
      "metadata": {
        "id": "i-6t7nqlOjMo"
      },
      "source": [
        "\"Write your response here\""
      ]
    },
    {
      "cell_type": "markdown",
      "metadata": {
        "id": "muXeS0eVVW6H"
      },
      "source": [
        "**QUESTION:** Display the names of the different columns in the dataset with their respective data types."
      ]
    },
    {
      "cell_type": "code",
      "execution_count": null,
      "metadata": {
        "id": "pa9Tptu7nPMp"
      },
      "outputs": [],
      "source": []
    },
    {
      "cell_type": "markdown",
      "metadata": {
        "id": "cezua1bMVTCM"
      },
      "source": [
        "**ANALYSIS QUESTION:** To train the model, what will be the inputs and outputs (What are the names of the columns that you will use?)? Justify your response.\n",
        "Remember, you want to predict if the machine will fail, and if so, what kind of failure. You need to yse previous results to jsurtify your response."
      ]
    },
    {
      "cell_type": "markdown",
      "metadata": {
        "id": "0gy8oDgxbjol"
      },
      "source": [
        "\"Write your response here\""
      ]
    },
    {
      "cell_type": "markdown",
      "metadata": {
        "id": "CFXLkBzTiafx"
      },
      "source": [
        "## **2- Train model Without balancing the dataset**\n",
        "\n",
        "---\n",
        "\n"
      ]
    },
    {
      "cell_type": "markdown",
      "metadata": {
        "id": "plBeUOCKvVNU"
      },
      "source": [
        "In this section, you must build and train a model without rebalancing the dataset."
      ]
    },
    {
      "cell_type": "markdown",
      "metadata": {
        "id": "yj7CMqdVbxg2"
      },
      "source": [
        "**QUESTION:** Create X_train, Y_train, X_test, and Y_test. How many elements are present in X_train, Y_train, X_test, and Y_test? (Print the values)"
      ]
    },
    {
      "cell_type": "code",
      "execution_count": null,
      "metadata": {
        "id": "Wdght-L8wQQQ"
      },
      "outputs": [],
      "source": []
    },
    {
      "cell_type": "markdown",
      "metadata": {
        "id": "eqBuZsqKdQ7u"
      },
      "source": [
        "**QUESTION** Code below the model architecture"
      ]
    },
    {
      "cell_type": "code",
      "execution_count": null,
      "metadata": {
        "id": "F35j0VRDdNLc"
      },
      "outputs": [],
      "source": []
    },
    {
      "cell_type": "markdown",
      "metadata": {
        "id": "dIONoP2Jdg8Q"
      },
      "source": [
        "**QUESTION** Code below the algorithms allowing to train model\n",
        "\n",
        "**WARNING!** You need to plot the training and test accuracy and loss to check if our model is overfitting"
      ]
    },
    {
      "cell_type": "code",
      "execution_count": null,
      "metadata": {
        "id": "jJ2bYxZydhW2"
      },
      "outputs": [],
      "source": []
    },
    {
      "cell_type": "markdown",
      "metadata": {
        "id": "yvmyHnqYpbf-"
      },
      "source": [
        "**QUESTION** Plot the confusion matrix and the classification report"
      ]
    },
    {
      "cell_type": "markdown",
      "metadata": {
        "id": "FUXSeJ1ZpsSP"
      },
      "source": [
        "**Tips:**\n",
        "\n",
        "*   classification report link\n",
        "\n",
        "> https://scikit-learn.org/stable/modules/generated/sklearn.metrics.classification_report.html\n",
        "\n",
        "*   Matrix confusion\n",
        "\n",
        "> https://scikit-learn.org/stable/modules/generated/sklearn.metrics.ConfusionMatrixDisplay.html\n",
        "\n",
        "\n",
        "\n"
      ]
    },
    {
      "cell_type": "code",
      "execution_count": null,
      "metadata": {
        "id": "m4q5wvHNnAdu"
      },
      "outputs": [],
      "source": []
    },
    {
      "cell_type": "markdown",
      "metadata": {
        "id": "ImGsmryGkKhj"
      },
      "source": [
        "**ANALYSIS QUESTION** What do you observe? What can you conclude?"
      ]
    },
    {
      "cell_type": "markdown",
      "metadata": {
        "id": "y1f5OneQknZy"
      },
      "source": [
        "\"Write your response here\""
      ]
    },
    {
      "cell_type": "markdown",
      "metadata": {
        "id": "EYUyUAN5ji0x"
      },
      "source": [
        "## **3- Train model With balancing the dataset**\n",
        "\n",
        "---"
      ]
    },
    {
      "cell_type": "markdown",
      "metadata": {
        "id": "EQWut50JhKdD"
      },
      "source": [
        " Methods for rebalancing a dataset:\n",
        "\n",
        "\n",
        "*   Use oversampling techniques (e.g., SMOTE) to generate synthetic data for minority classes\n",
        "\n",
        "\n",
        "> https://imbalanced-learn.org/stable/references/generated/imblearn.over_sampling.SMOTE.html\n",
        "\n",
        "\n",
        "\n",
        "*   Apply undersampling techniques (e.g., random undersampling, Tomek Links, Edited Nearest Neighbors) to reduce the majority class size\n",
        "\n",
        "\n",
        "\n",
        "> https://imbalanced-learn.org/stable/references/generated/imblearn.under_sampling.RandomUnderSampler.html\n",
        "\n",
        "\n",
        "\n",
        "*   Use class weighting during model training to penalize errors on minority classes\n",
        "\n",
        "\n",
        "\n",
        "> https://www.tensorflow.org/tutorials/structured_data/imbalanced_data?hl=fr\n"
      ]
    },
    {
      "cell_type": "markdown",
      "metadata": {
        "id": "--pWJzaUnXdY"
      },
      "source": [
        "**QUESTION:** Create X_train, Y_train, X_test, and Y_test. How many elements are present in X_train, Y_train, X_test, and Y_test? (Print the values)"
      ]
    },
    {
      "cell_type": "code",
      "execution_count": null,
      "metadata": {
        "id": "aLW74cwbdr1U"
      },
      "outputs": [],
      "source": []
    },
    {
      "cell_type": "markdown",
      "metadata": {
        "id": "-YcZXIadnbcm"
      },
      "source": [
        "**ANALYSIS QUESTION:** Explain the choices you made to balance the dataset."
      ]
    },
    {
      "cell_type": "markdown",
      "metadata": {
        "id": "Rku3pnWxnxhI"
      },
      "source": [
        "\"Write your response here\""
      ]
    },
    {
      "cell_type": "markdown",
      "metadata": {
        "id": "BVryPCQFn4Dd"
      },
      "source": [
        "**QUESTION:** Code below the model architecture\n"
      ]
    },
    {
      "cell_type": "markdown",
      "metadata": {
        "id": "Q5BGfI7TpVDD"
      },
      "source": [
        "**TIP:** It could be interesting to keep it the same as before"
      ]
    },
    {
      "cell_type": "code",
      "execution_count": null,
      "metadata": {
        "id": "S0UbMHN6OC51"
      },
      "outputs": [],
      "source": []
    },
    {
      "cell_type": "markdown",
      "metadata": {
        "id": "wBZyS7DdofFq"
      },
      "source": [
        "**QUESTION** Code below the algorithms allowing to train model\n"
      ]
    },
    {
      "cell_type": "code",
      "execution_count": null,
      "metadata": {
        "id": "my6Ck5JbMDOG"
      },
      "outputs": [],
      "source": []
    },
    {
      "cell_type": "markdown",
      "metadata": {
        "id": "77ftkfv5oqp0"
      },
      "source": [
        "**QUESTION** Plot the confusion matrix and the classification report"
      ]
    },
    {
      "cell_type": "code",
      "execution_count": null,
      "metadata": {
        "id": "kRmkOI_co5d9"
      },
      "outputs": [],
      "source": []
    },
    {
      "cell_type": "markdown",
      "metadata": {
        "id": "Zn5BBAI3pHXf"
      },
      "source": [
        "**ANALYSIS QUESTION** What do you observe? What can you conclude?"
      ]
    },
    {
      "cell_type": "markdown",
      "metadata": {
        "id": "SIf8rfU9pIGd"
      },
      "source": [
        "\"Write your response here\""
      ]
    }
  ],
  "metadata": {
    "colab": {
      "provenance": []
    },
    "kernelspec": {
      "display_name": "ai_venv",
      "language": "python",
      "name": "python3"
    },
    "language_info": {
      "codemirror_mode": {
        "name": "ipython",
        "version": 3
      },
      "file_extension": ".py",
      "mimetype": "text/x-python",
      "name": "python",
      "nbconvert_exporter": "python",
      "pygments_lexer": "ipython3",
      "version": "3.12.9"
    }
  },
  "nbformat": 4,
  "nbformat_minor": 0
}
