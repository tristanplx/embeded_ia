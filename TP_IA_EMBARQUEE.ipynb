{
<<<<<<< HEAD
  "nbformat": 4,
  "nbformat_minor": 0,
  "metadata": {
    "colab": {
      "provenance": []
    },
    "kernelspec": {
      "name": "python3",
      "display_name": "Python 3"
    },
    "language_info": {
      "name": "python"
    }
  },
  "cells": [
    {
      "cell_type": "markdown",
      "source": [
        "## **PRACTICAL SESSION 1** — Deep Learning for predictive maintenance"
      ],
      "metadata": {
        "id": "ZLQS0KLMycmb"
      }
    },
    {
      "cell_type": "markdown",
=======
  "cells": [
    {
      "cell_type": "markdown",
      "metadata": {
        "id": "ZLQS0KLMycmb"
      },
      "source": [
        "## **PRACTICAL SESSION 1** — Deep Learning for predictive maintenance"
      ]
    },
    {
      "cell_type": "markdown",
      "metadata": {
        "id": "3mjNAfgj4K1_"
      },
>>>>>>> 872e387c567a70b7f4420692698918add06008f4
      "source": [
        "The dataset used is the **AI4I 2020** Predictive Maintenance Dataset, which contains 10,000 instances of industrial sensor data. Each instance represents the operating condition of a machine and is associated with a label indicating whether a failure has occurred and, if so, what type of failure it is.\n",
        "\n",
        "The 5 possible labels are:\n",
        "\n",
        "\n",
        "\n",
        "*   **TWF**: Tool Wear Failure\n",
        "*   **HDF**: Heat Dissipation Failure\n",
        "*   **PWF**: Power Failure\n",
        "*   **OSF**: Overstrain Failure\n",
        "*   **RNF**: Random Failure\n",
        "\n",
        "\n",
        "The data is available on eCAMPUS as CSV file called: \"ai4i2020.csv\"\n",
        "\n"
<<<<<<< HEAD
      ],
      "metadata": {
        "id": "3mjNAfgj4K1_"
      }
    },
    {
      "cell_type": "markdown",
      "source": [
        "## **PRACTICAL SESSION Goal** — Ceate a deep leanring model allowing to realize a predictive maintenance mission"
      ],
      "metadata": {
        "id": "4_LBMVsgRI9W"
      }
    },
    {
      "cell_type": "markdown",
      "source": [
        "## **1 - Analysis of the dataset**\n",
        "\n"
      ],
      "metadata": {
        "id": "wt7L0p4MbIIw"
      }
    },
    {
      "cell_type": "markdown",
      "source": [
        "All libraries used ***SHOULD BE PLACED*** in the code cell below"
      ],
      "metadata": {
        "id": "0JFIZ6mtRapt"
      }
=======
      ]
    },
    {
      "cell_type": "markdown",
      "metadata": {
        "id": "4_LBMVsgRI9W"
      },
      "source": [
        "## **PRACTICAL SESSION Goal** — Ceate a deep leanring model allowing to realize a predictive maintenance mission"
      ]
    },
    {
      "cell_type": "markdown",
      "metadata": {
        "id": "wt7L0p4MbIIw"
      },
      "source": [
        "## **1 - Analysis of the dataset**\n",
        "\n"
      ]
    },
    {
      "cell_type": "markdown",
      "metadata": {
        "id": "0JFIZ6mtRapt"
      },
      "source": [
        "All libraries used ***SHOULD BE PLACED*** in the code cell below"
      ]
    },
    {
      "cell_type": "code",
      "execution_count": 11,
      "metadata": {
        "id": "UQp7FGSb5Vlv"
      },
      "outputs": [],
      "source": [
        "\n",
        "import tensorflow as tf\n",
        "from tensorflow import keras\n",
        "from tensorflow.keras import layers,models\n",
        "import matplotlib.pyplot as plt\n",
        "import IPython\n",
        "import sys, os, array, time\n",
        "import serial \n",
        "import numpy as np\n",
        "import pandas as pd"
      ]
    },
    {
      "cell_type": "markdown",
      "metadata": {
        "id": "eFRcS74MDeSf"
      },
      "source": [
        "**QUESTION:** Load dataset and display some lines of the csv file."
      ]
>>>>>>> 872e387c567a70b7f4420692698918add06008f4
    },
    {
      "cell_type": "code",
      "execution_count": 17,
      "metadata": {
<<<<<<< HEAD
        "id": "UQp7FGSb5Vlv"
=======
        "id": "9l044FZ_5-fN"
>>>>>>> 872e387c567a70b7f4420692698918add06008f4
      },
      "outputs": [
        {
          "name": "stdout",
          "output_type": "stream",
          "text": [
            "UDI                             1\n",
            "Product ID                 M14860\n",
            "Type                            M\n",
            "Air temperature [K]         298.1\n",
            "Process temperature [K]     308.6\n",
            "Rotational speed [rpm]       1551\n",
            "Torque [Nm]                  42.8\n",
            "Tool wear [min]                 0\n",
            "Machine failure                 0\n",
            "TWF                             0\n",
            "HDF                             0\n",
            "PWF                             0\n",
            "OSF                             0\n",
            "RNF                             0\n",
            "Name: 0, dtype: object\n",
            "---\n",
            "UDI                           151\n",
            "Product ID                 L47330\n",
            "Type                            L\n",
            "Air temperature [K]         298.4\n",
            "Process temperature [K]     308.3\n",
            "Rotational speed [rpm]       1422\n",
            "Torque [Nm]                  42.7\n",
            "Tool wear [min]               186\n",
            "Machine failure                 0\n",
            "TWF                             0\n",
            "HDF                             0\n",
            "PWF                             0\n",
            "OSF                             0\n",
            "RNF                             0\n",
            "Name: 150, dtype: object\n",
            "---\n"
          ]
        }
      ],
      "source": [
        "Raw_data = pd.read_excel('./ai4i2020.xlsx')\n",
        "print(Raw_data.iloc[0])\n",
        "print(\"---\")\n",
        "print(Raw_data.iloc[150])\n",
        "print(\"---\")\n"
      ]
    },
    {
      "cell_type": "markdown",
<<<<<<< HEAD
      "source": [
        "**QUESTION:** Load dataset and display some lines of the csv file."
      ],
      "metadata": {
        "id": "eFRcS74MDeSf"
      }
    },
    {
      "cell_type": "code",
      "source": [],
      "metadata": {
        "id": "9l044FZ_5-fN"
      },
      "execution_count": null,
      "outputs": []
    },
    {
      "cell_type": "markdown",
      "source": [
        "**QUESTION:** Display the distribution of machine failures and non-failures with a bar graph."
      ],
      "metadata": {
        "id": "joQOXoqaD8JA"
      }
    },
    {
      "cell_type": "code",
      "source": [],
      "metadata": {
        "id": "r3Q1l9JoMs7m"
      },
      "execution_count": null,
      "outputs": []
    },
    {
      "cell_type": "markdown",
      "source": [
        "**ANALYSIS QUESTION:** What do you observe?"
      ],
      "metadata": {
        "id": "vCNIqXVyEkrR"
      }
    },
    {
      "cell_type": "markdown",
      "source": [
        "\"Write here your response\""
      ],
      "metadata": {
        "id": "6BMGtlIWE-C0"
      }
    },
    {
      "cell_type": "markdown",
      "source": [
        "**ANALYSIS QUESTION:** What will be the consequence of this phenomenon on the model's learning?"
      ],
      "metadata": {
        "id": "huU5I4x8SzlN"
      }
    },
    {
      "cell_type": "markdown",
      "source": [
        "\"Write here your response\""
      ],
      "metadata": {
        "id": "JHmYROP0TLIS"
      }
    },
    {
      "cell_type": "markdown",
      "source": [
        "**QUESTION:** Create a bar chart showing the distribution of different failure types (TWF, HDF, PWF, OSF, RNF). Display the exact values above each bar in the chart.\""
      ],
      "metadata": {
        "id": "0s-mzCCsSasl"
      }
    },
    {
      "cell_type": "code",
      "source": [],
      "metadata": {
        "id": "nQyJCfamMdJN"
      },
      "execution_count": null,
      "outputs": []
    },
    {
      "cell_type": "markdown",
      "source": [
        "**ANALYSIS QUESTION:** What do you observe?"
      ],
      "metadata": {
        "id": "NXyHa73yU8g_"
      }
    },
    {
      "cell_type": "markdown",
      "source": [
        "\"Write here your response\""
      ],
      "metadata": {
        "id": "WRDFE_dsVBBU"
      }
    },
    {
      "cell_type": "markdown",
      "source": [
        "**QUESTION:** Create a bar chart showing the distribution of failure types (TWF, HDF, PWF, OSF, RNF) among machines that experienced a failure (Machine failure == 1). Additionally, add a \"No Specific Failure\" category to count cases where a machine failed but no specific failure type was recorded. Display the exact values above each bar in the chart.\""
      ],
      "metadata": {
        "id": "cvaO2bEIMxLd"
      }
    },
    {
      "cell_type": "code",
      "source": [],
      "metadata": {
        "id": "e97htGyyMsle"
      },
      "execution_count": null,
      "outputs": []
    },
    {
      "cell_type": "markdown",
      "source": [
        "**ANALYSIS QUESTION:** What do you obsrve comapred to the previous question ? What can you conclude?"
      ],
      "metadata": {
        "id": "U6_3vAQCOUGb"
      }
    },
    {
      "cell_type": "markdown",
      "source": [
        "\"Write your response here\""
      ],
      "metadata": {
        "id": "i-6t7nqlOjMo"
      }
    },
    {
      "cell_type": "markdown",
      "source": [
        "**QUESTION:** Display the names of the different columns in the dataset with their respective data types."
      ],
      "metadata": {
        "id": "muXeS0eVVW6H"
      }
    },
    {
      "cell_type": "code",
      "source": [],
      "metadata": {
        "id": "pa9Tptu7nPMp"
      },
      "execution_count": null,
      "outputs": []
    },
    {
      "cell_type": "markdown",
      "source": [
        "**ANALYSIS QUESTION:** To train the model, what will be the inputs and outputs (What are the names of the columns that you will use?)? Justify your response.\n",
        "Remember, you want to predict if the machine will fail, and if so, what kind of failure. You need to yse previous results to jsurtify your response."
      ],
      "metadata": {
        "id": "cezua1bMVTCM"
      }
    },
    {
      "cell_type": "markdown",
      "source": [
        "\"Write your response here\""
      ],
      "metadata": {
        "id": "0gy8oDgxbjol"
      }
    },
    {
      "cell_type": "markdown",
=======
      "metadata": {
        "id": "joQOXoqaD8JA"
      },
      "source": [
        "**QUESTION:** Display the distribution of machine failures and non-failures with a bar graph."
      ]
    },
    {
      "cell_type": "code",
      "execution_count": null,
      "metadata": {
        "id": "r3Q1l9JoMs7m"
      },
      "outputs": [
        {
          "name": "stdout",
          "output_type": "stream",
          "text": [
            "Machine failure\n",
            "0    9661\n",
            "1     339\n",
            "Name: count, dtype: int64\n"
          ]
        },
        {
          "data": {
            "text/plain": [
              "Text(0.5, 1.0, 'failed and functionnal machines')"
            ]
          },
          "execution_count": 21,
          "metadata": {},
          "output_type": "execute_result"
        },
        {
          "data": {
            "image/png": "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",
            "text/plain": [
              "<Figure size 640x480 with 1 Axes>"
            ]
          },
          "metadata": {},
          "output_type": "display_data"
        }
      ],
      "source": [
        "compte = Raw_data[\"Machine failure\"].value_counts()\n",
        "print(compte)\n",
        "plt.bar(compte.index, compte.values)\n",
        "plt.xlabel('Machine Failure')\n",
        "plt.ylabel('Amouunt')\n",
        "plt.title('failed and functionnal machines')\n",
        "#azy\n"
      ]
    },
    {
      "cell_type": "markdown",
      "metadata": {
        "id": "vCNIqXVyEkrR"
      },
      "source": [
        "**ANALYSIS QUESTION:** What do you observe?"
      ]
    },
    {
      "cell_type": "markdown",
      "metadata": {
        "id": "6BMGtlIWE-C0"
      },
      "source": [
        "\"Write here your response\""
      ]
    },
    {
      "cell_type": "markdown",
      "metadata": {
        "id": "huU5I4x8SzlN"
      },
      "source": [
        "**ANALYSIS QUESTION:** What will be the consequence of this phenomenon on the model's learning?"
      ]
    },
    {
      "cell_type": "markdown",
      "metadata": {
        "id": "JHmYROP0TLIS"
      },
      "source": [
        "\"Write here your response\""
      ]
    },
    {
      "cell_type": "markdown",
      "metadata": {
        "id": "0s-mzCCsSasl"
      },
      "source": [
        "**QUESTION:** Create a bar chart showing the distribution of different failure types (TWF, HDF, PWF, OSF, RNF). Display the exact values above each bar in the chart.\""
      ]
    },
    {
      "cell_type": "code",
      "execution_count": null,
      "metadata": {
        "id": "nQyJCfamMdJN"
      },
      "outputs": [],
      "source": []
    },
    {
      "cell_type": "markdown",
      "metadata": {
        "id": "NXyHa73yU8g_"
      },
      "source": [
        "**ANALYSIS QUESTION:** What do you observe?"
      ]
    },
    {
      "cell_type": "markdown",
      "metadata": {
        "id": "WRDFE_dsVBBU"
      },
      "source": [
        "\"Write here your response\""
      ]
    },
    {
      "cell_type": "markdown",
      "metadata": {
        "id": "cvaO2bEIMxLd"
      },
      "source": [
        "**QUESTION:** Create a bar chart showing the distribution of failure types (TWF, HDF, PWF, OSF, RNF) among machines that experienced a failure (Machine failure == 1). Additionally, add a \"No Specific Failure\" category to count cases where a machine failed but no specific failure type was recorded. Display the exact values above each bar in the chart.\""
      ]
    },
    {
      "cell_type": "code",
      "execution_count": null,
      "metadata": {
        "id": "e97htGyyMsle"
      },
      "outputs": [],
      "source": []
    },
    {
      "cell_type": "markdown",
      "metadata": {
        "id": "U6_3vAQCOUGb"
      },
      "source": [
        "**ANALYSIS QUESTION:** What do you obsrve comapred to the previous question ? What can you conclude?"
      ]
    },
    {
      "cell_type": "markdown",
      "metadata": {
        "id": "i-6t7nqlOjMo"
      },
      "source": [
        "\"Write your response here\""
      ]
    },
    {
      "cell_type": "markdown",
      "metadata": {
        "id": "muXeS0eVVW6H"
      },
      "source": [
        "**QUESTION:** Display the names of the different columns in the dataset with their respective data types."
      ]
    },
    {
      "cell_type": "code",
      "execution_count": null,
      "metadata": {
        "id": "pa9Tptu7nPMp"
      },
      "outputs": [],
      "source": []
    },
    {
      "cell_type": "markdown",
      "metadata": {
        "id": "cezua1bMVTCM"
      },
      "source": [
        "**ANALYSIS QUESTION:** To train the model, what will be the inputs and outputs (What are the names of the columns that you will use?)? Justify your response.\n",
        "Remember, you want to predict if the machine will fail, and if so, what kind of failure. You need to yse previous results to jsurtify your response."
      ]
    },
    {
      "cell_type": "markdown",
      "metadata": {
        "id": "0gy8oDgxbjol"
      },
      "source": [
        "\"Write your response here\""
      ]
    },
    {
      "cell_type": "markdown",
      "metadata": {
        "id": "CFXLkBzTiafx"
      },
>>>>>>> 872e387c567a70b7f4420692698918add06008f4
      "source": [
        "## **2- Train model Without balancing the dataset**\n",
        "\n",
        "---\n",
        "\n"
<<<<<<< HEAD
      ],
      "metadata": {
        "id": "CFXLkBzTiafx"
      }
    },
    {
      "cell_type": "markdown",
      "source": [
        "In this section, you must build and train a model without rebalancing the dataset."
      ],
      "metadata": {
        "id": "plBeUOCKvVNU"
      }
    },
    {
      "cell_type": "markdown",
      "source": [
        "**QUESTION:** Create X_train, Y_train, X_test, and Y_test. How many elements are present in X_train, Y_train, X_test, and Y_test? (Print the values)"
      ],
      "metadata": {
        "id": "yj7CMqdVbxg2"
      }
    },
    {
      "cell_type": "code",
      "source": [],
      "metadata": {
        "id": "Wdght-L8wQQQ"
      },
      "execution_count": null,
      "outputs": []
    },
    {
      "cell_type": "markdown",
      "source": [
        "**QUESTION** Code below the model architecture"
      ],
      "metadata": {
        "id": "eqBuZsqKdQ7u"
      }
    },
    {
      "cell_type": "code",
      "source": [],
      "metadata": {
        "id": "F35j0VRDdNLc"
      },
      "execution_count": null,
      "outputs": []
    },
    {
      "cell_type": "markdown",
=======
      ]
    },
    {
      "cell_type": "markdown",
      "metadata": {
        "id": "plBeUOCKvVNU"
      },
      "source": [
        "In this section, you must build and train a model without rebalancing the dataset."
      ]
    },
    {
      "cell_type": "markdown",
      "metadata": {
        "id": "yj7CMqdVbxg2"
      },
      "source": [
        "**QUESTION:** Create X_train, Y_train, X_test, and Y_test. How many elements are present in X_train, Y_train, X_test, and Y_test? (Print the values)"
      ]
    },
    {
      "cell_type": "code",
      "execution_count": null,
      "metadata": {
        "id": "Wdght-L8wQQQ"
      },
      "outputs": [],
      "source": []
    },
    {
      "cell_type": "markdown",
      "metadata": {
        "id": "eqBuZsqKdQ7u"
      },
      "source": [
        "**QUESTION** Code below the model architecture"
      ]
    },
    {
      "cell_type": "code",
      "execution_count": null,
      "metadata": {
        "id": "F35j0VRDdNLc"
      },
      "outputs": [],
      "source": []
    },
    {
      "cell_type": "markdown",
      "metadata": {
        "id": "dIONoP2Jdg8Q"
      },
>>>>>>> 872e387c567a70b7f4420692698918add06008f4
      "source": [
        "**QUESTION** Code below the algorithms allowing to train model\n",
        "\n",
        "**WARNING!** You need to plot the training and test accuracy and loss to check if our model is overfitting"
<<<<<<< HEAD
      ],
      "metadata": {
        "id": "dIONoP2Jdg8Q"
      }
    },
    {
      "cell_type": "code",
      "source": [],
      "metadata": {
        "id": "jJ2bYxZydhW2"
      },
      "execution_count": null,
      "outputs": []
    },
    {
      "cell_type": "markdown",
      "source": [
        "**QUESTION** Plot the confusion matrix and the classification report"
      ],
      "metadata": {
        "id": "yvmyHnqYpbf-"
      }
    },
    {
      "cell_type": "markdown",
=======
      ]
    },
    {
      "cell_type": "code",
      "execution_count": null,
      "metadata": {
        "id": "jJ2bYxZydhW2"
      },
      "outputs": [],
      "source": []
    },
    {
      "cell_type": "markdown",
      "metadata": {
        "id": "yvmyHnqYpbf-"
      },
      "source": [
        "**QUESTION** Plot the confusion matrix and the classification report"
      ]
    },
    {
      "cell_type": "markdown",
      "metadata": {
        "id": "FUXSeJ1ZpsSP"
      },
>>>>>>> 872e387c567a70b7f4420692698918add06008f4
      "source": [
        "**Tips:**\n",
        "\n",
        "*   classification report link\n",
        "\n",
        "> https://scikit-learn.org/stable/modules/generated/sklearn.metrics.classification_report.html\n",
        "\n",
        "*   Matrix confusion\n",
        "\n",
        "> https://scikit-learn.org/stable/modules/generated/sklearn.metrics.ConfusionMatrixDisplay.html\n",
        "\n",
        "\n",
        "\n"
<<<<<<< HEAD
      ],
      "metadata": {
        "id": "FUXSeJ1ZpsSP"
      }
    },
    {
      "cell_type": "code",
      "source": [],
      "metadata": {
        "id": "m4q5wvHNnAdu"
      },
      "execution_count": null,
      "outputs": []
    },
    {
      "cell_type": "markdown",
      "source": [
        "**ANALYSIS QUESTION** What do you observe? What can you conclude?"
      ],
      "metadata": {
        "id": "ImGsmryGkKhj"
      }
    },
    {
      "cell_type": "markdown",
      "source": [
        "\"Write your response here\""
      ],
      "metadata": {
        "id": "y1f5OneQknZy"
      }
    },
    {
      "cell_type": "markdown",
=======
      ]
    },
    {
      "cell_type": "code",
      "execution_count": null,
      "metadata": {
        "id": "m4q5wvHNnAdu"
      },
      "outputs": [],
      "source": []
    },
    {
      "cell_type": "markdown",
      "metadata": {
        "id": "ImGsmryGkKhj"
      },
      "source": [
        "**ANALYSIS QUESTION** What do you observe? What can you conclude?"
      ]
    },
    {
      "cell_type": "markdown",
      "metadata": {
        "id": "y1f5OneQknZy"
      },
      "source": [
        "\"Write your response here\""
      ]
    },
    {
      "cell_type": "markdown",
      "metadata": {
        "id": "EYUyUAN5ji0x"
      },
>>>>>>> 872e387c567a70b7f4420692698918add06008f4
      "source": [
        "## **3- Train model With balancing the dataset**\n",
        "\n",
        "---"
<<<<<<< HEAD
      ],
      "metadata": {
        "id": "EYUyUAN5ji0x"
      }
    },
    {
      "cell_type": "markdown",
=======
      ]
    },
    {
      "cell_type": "markdown",
      "metadata": {
        "id": "EQWut50JhKdD"
      },
>>>>>>> 872e387c567a70b7f4420692698918add06008f4
      "source": [
        " Methods for rebalancing a dataset:\n",
        "\n",
        "\n",
        "*   Use oversampling techniques (e.g., SMOTE) to generate synthetic data for minority classes\n",
        "\n",
        "\n",
        "> https://imbalanced-learn.org/stable/references/generated/imblearn.over_sampling.SMOTE.html\n",
        "\n",
        "\n",
        "\n",
        "*   Apply undersampling techniques (e.g., random undersampling, Tomek Links, Edited Nearest Neighbors) to reduce the majority class size\n",
        "\n",
        "\n",
        "\n",
        "> https://imbalanced-learn.org/stable/references/generated/imblearn.under_sampling.RandomUnderSampler.html\n",
        "\n",
        "\n",
        "\n",
        "*   Use class weighting during model training to penalize errors on minority classes\n",
        "\n",
        "\n",
        "\n",
        "> https://www.tensorflow.org/tutorials/structured_data/imbalanced_data?hl=fr\n"
<<<<<<< HEAD
      ],
      "metadata": {
        "id": "EQWut50JhKdD"
      }
    },
    {
      "cell_type": "markdown",
      "source": [
        "**QUESTION:** Create X_train, Y_train, X_test, and Y_test. How many elements are present in X_train, Y_train, X_test, and Y_test? (Print the values)"
      ],
      "metadata": {
        "id": "--pWJzaUnXdY"
      }
    },
    {
      "cell_type": "code",
      "source": [],
      "metadata": {
        "id": "aLW74cwbdr1U"
      },
      "execution_count": null,
      "outputs": []
    },
    {
      "cell_type": "markdown",
      "source": [
        "**ANALYSIS QUESTION:** Explain the choices you made to balance the dataset."
      ],
      "metadata": {
        "id": "-YcZXIadnbcm"
      }
    },
    {
      "cell_type": "markdown",
      "source": [
        "\"Write your response here\""
      ],
      "metadata": {
        "id": "Rku3pnWxnxhI"
      }
    },
    {
      "cell_type": "markdown",
      "source": [
        "**QUESTION:** Code below the model architecture\n"
      ],
      "metadata": {
        "id": "BVryPCQFn4Dd"
      }
    },
    {
      "cell_type": "markdown",
      "source": [
        "**TIP:** It could be interesting to keep it the same as before"
      ],
      "metadata": {
        "id": "Q5BGfI7TpVDD"
      }
    },
    {
      "cell_type": "code",
      "source": [],
      "metadata": {
        "id": "S0UbMHN6OC51"
      },
      "execution_count": null,
      "outputs": []
    },
    {
      "cell_type": "markdown",
      "source": [
        "**QUESTION** Code below the algorithms allowing to train model\n"
      ],
      "metadata": {
        "id": "wBZyS7DdofFq"
      }
    },
    {
      "cell_type": "code",
      "source": [],
      "metadata": {
        "id": "my6Ck5JbMDOG"
      },
      "execution_count": null,
      "outputs": []
    },
    {
      "cell_type": "markdown",
      "source": [
        "**QUESTION** Plot the confusion matrix and the classification report"
      ],
      "metadata": {
        "id": "77ftkfv5oqp0"
      }
    },
    {
      "cell_type": "code",
      "source": [],
      "metadata": {
        "id": "kRmkOI_co5d9"
      },
      "execution_count": null,
      "outputs": []
    },
    {
      "cell_type": "markdown",
      "source": [
        "**ANALYSIS QUESTION** What do you observe? What can you conclude?"
      ],
      "metadata": {
        "id": "Zn5BBAI3pHXf"
      }
    },
    {
      "cell_type": "markdown",
      "source": [
        "\"Write your response here\""
      ],
      "metadata": {
        "id": "SIf8rfU9pIGd"
      }
    }
  ]
}
=======
      ]
    },
    {
      "cell_type": "markdown",
      "metadata": {
        "id": "--pWJzaUnXdY"
      },
      "source": [
        "**QUESTION:** Create X_train, Y_train, X_test, and Y_test. How many elements are present in X_train, Y_train, X_test, and Y_test? (Print the values)"
      ]
    },
    {
      "cell_type": "code",
      "execution_count": null,
      "metadata": {
        "id": "aLW74cwbdr1U"
      },
      "outputs": [],
      "source": []
    },
    {
      "cell_type": "markdown",
      "metadata": {
        "id": "-YcZXIadnbcm"
      },
      "source": [
        "**ANALYSIS QUESTION:** Explain the choices you made to balance the dataset."
      ]
    },
    {
      "cell_type": "markdown",
      "metadata": {
        "id": "Rku3pnWxnxhI"
      },
      "source": [
        "\"Write your response here\""
      ]
    },
    {
      "cell_type": "markdown",
      "metadata": {
        "id": "BVryPCQFn4Dd"
      },
      "source": [
        "**QUESTION:** Code below the model architecture\n"
      ]
    },
    {
      "cell_type": "markdown",
      "metadata": {
        "id": "Q5BGfI7TpVDD"
      },
      "source": [
        "**TIP:** It could be interesting to keep it the same as before"
      ]
    },
    {
      "cell_type": "code",
      "execution_count": null,
      "metadata": {
        "id": "S0UbMHN6OC51"
      },
      "outputs": [],
      "source": []
    },
    {
      "cell_type": "markdown",
      "metadata": {
        "id": "wBZyS7DdofFq"
      },
      "source": [
        "**QUESTION** Code below the algorithms allowing to train model\n"
      ]
    },
    {
      "cell_type": "code",
      "execution_count": null,
      "metadata": {
        "id": "my6Ck5JbMDOG"
      },
      "outputs": [],
      "source": []
    },
    {
      "cell_type": "markdown",
      "metadata": {
        "id": "77ftkfv5oqp0"
      },
      "source": [
        "**QUESTION** Plot the confusion matrix and the classification report"
      ]
    },
    {
      "cell_type": "code",
      "execution_count": null,
      "metadata": {
        "id": "kRmkOI_co5d9"
      },
      "outputs": [],
      "source": []
    },
    {
      "cell_type": "markdown",
      "metadata": {
        "id": "Zn5BBAI3pHXf"
      },
      "source": [
        "**ANALYSIS QUESTION** What do you observe? What can you conclude?"
      ]
    },
    {
      "cell_type": "markdown",
      "metadata": {
        "id": "SIf8rfU9pIGd"
      },
      "source": [
        "\"Write your response here\""
      ]
    }
  ],
  "metadata": {
    "colab": {
      "provenance": []
    },
    "kernelspec": {
      "display_name": "ai_venv",
      "language": "python",
      "name": "python3"
    },
    "language_info": {
      "codemirror_mode": {
        "name": "ipython",
        "version": 3
      },
      "file_extension": ".py",
      "mimetype": "text/x-python",
      "name": "python",
      "nbconvert_exporter": "python",
      "pygments_lexer": "ipython3",
      "version": "3.12.9"
    }
  },
  "nbformat": 4,
  "nbformat_minor": 0
}
>>>>>>> 872e387c567a70b7f4420692698918add06008f4
